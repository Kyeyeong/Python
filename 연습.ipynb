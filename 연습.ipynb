{
 "cells": [
  {
   "cell_type": "code",
   "execution_count": 2,
   "id": "55f3033e",
   "metadata": {},
   "outputs": [
    {
     "data": {
      "text/plain": [
       "'First module of the first module'"
      ]
     },
     "execution_count": 2,
     "metadata": {},
     "output_type": "execute_result"
    }
   ],
   "source": [
    "import ex1\n",
    "ex1.func1()"
   ]
  },
  {
   "cell_type": "code",
   "execution_count": null,
   "id": "8e9fc6a2",
   "metadata": {},
   "outputs": [
    {
     "name": "stdout",
     "output_type": "stream",
     "text": [
      "['c:\\\\Users\\\\kcs\\\\AppData\\\\Local\\\\Programs\\\\Python\\\\Python313\\\\python313.zip', 'c:\\\\Users\\\\kcs\\\\AppData\\\\Local\\\\Programs\\\\Python\\\\Python313\\\\DLLs', 'c:\\\\Users\\\\kcs\\\\AppData\\\\Local\\\\Programs\\\\Python\\\\Python313\\\\Lib', 'c:\\\\Users\\\\kcs\\\\AppData\\\\Local\\\\Programs\\\\Python\\\\Python313', '', 'C:\\\\Users\\\\kcs\\\\AppData\\\\Roaming\\\\Python\\\\Python313\\\\site-packages', 'C:\\\\Users\\\\kcs\\\\AppData\\\\Roaming\\\\Python\\\\Python313\\\\site-packages\\\\win32', 'C:\\\\Users\\\\kcs\\\\AppData\\\\Roaming\\\\Python\\\\Python313\\\\site-packages\\\\win32\\\\lib', 'C:\\\\Users\\\\kcs\\\\AppData\\\\Roaming\\\\Python\\\\Python313\\\\site-packages\\\\Pythonwin', 'c:\\\\Users\\\\kcs\\\\AppData\\\\Local\\\\Programs\\\\Python\\\\Python313\\\\Lib\\\\site-packages']\n"
     ]
    }
   ],
   "source": [
    "import sys\n",
    "print(sys.path)\n",
    "sys.path.append"
   ]
  },
  {
   "cell_type": "code",
   "execution_count": 3,
   "id": "38b1f1fa",
   "metadata": {},
   "outputs": [
    {
     "name": "stdout",
     "output_type": "stream",
     "text": [
      "First module of the first module\n",
      "Second module of the first module\n"
     ]
    }
   ],
   "source": [
    "from ex1 import func1, func2\n",
    "func1()\n",
    "func2()\n",
    "print(func1())\n",
    "print(func2())"
   ]
  }
 ],
 "metadata": {
  "kernelspec": {
   "display_name": "Python 3",
   "language": "python",
   "name": "python3"
  },
  "language_info": {
   "codemirror_mode": {
    "name": "ipython",
    "version": 3
   },
   "file_extension": ".py",
   "mimetype": "text/x-python",
   "name": "python",
   "nbconvert_exporter": "python",
   "pygments_lexer": "ipython3",
   "version": "3.13.3"
  }
 },
 "nbformat": 4,
 "nbformat_minor": 5
}

{
 "cells": [
  {
   "cell_type": "code",
   "execution_count": 3,
   "id": "a5c42a1d",
   "metadata": {},
   "outputs": [
    {
     "name": "stdout",
     "output_type": "stream",
     "text": [
      "c:\\work\n"
     ]
    }
   ],
   "source": [
    "import os\n",
    "print(os.getcwd())"
   ]
  },
  {
   "cell_type": "code",
   "execution_count": null,
   "id": "d9c010bf",
   "metadata": {},
   "outputs": [],
   "source": [
    "import os\n",
    "os.chdir()"
   ]
  },
  {
   "cell_type": "code",
   "execution_count": 5,
   "id": "608aeeec",
   "metadata": {},
   "outputs": [
    {
     "name": "stdout",
     "output_type": "stream",
     "text": [
      ".git\n",
      "exam2.ipynb\n",
      "연습.ipynb\n"
     ]
    },
    {
     "name": "stderr",
     "output_type": "stream",
     "text": [
      "<>:1: SyntaxWarning: invalid escape sequence '\\w'\n",
      "<>:3: SyntaxWarning: invalid escape sequence '\\w'\n",
      "<>:1: SyntaxWarning: invalid escape sequence '\\w'\n",
      "<>:3: SyntaxWarning: invalid escape sequence '\\w'\n",
      "C:\\Users\\kcs\\AppData\\Local\\Temp\\ipykernel_14072\\3028458194.py:1: SyntaxWarning: invalid escape sequence '\\w'\n",
      "  os.listdir(\"c:\\work\")\n",
      "C:\\Users\\kcs\\AppData\\Local\\Temp\\ipykernel_14072\\3028458194.py:3: SyntaxWarning: invalid escape sequence '\\w'\n",
      "  for i in os.listdir(\"c:\\work\") :\n"
     ]
    }
   ],
   "source": [
    "os.listdir(\"c:\\work\")\n",
    "\n",
    "for i in os.listdir(\"c:\\work\") :\n",
    "    print(i)"
   ]
  },
  {
   "cell_type": "code",
   "execution_count": 9,
   "id": "2bda5fd4",
   "metadata": {},
   "outputs": [
    {
     "name": "stdout",
     "output_type": "stream",
     "text": [
      "False\n"
     ]
    },
    {
     "name": "stderr",
     "output_type": "stream",
     "text": [
      "<>:1: SyntaxWarning: invalid escape sequence '\\w'\n",
      "<>:1: SyntaxWarning: invalid escape sequence '\\w'\n",
      "C:\\Users\\kcs\\AppData\\Local\\Temp\\ipykernel_14072\\2482758575.py:1: SyntaxWarning: invalid escape sequence '\\w'\n",
      "  print(os.path.exists(\"c:\\work\\py_test1\"))\n"
     ]
    }
   ],
   "source": [
    "print(os.path.exists(\"c:\\work\\py_test1\"))"
   ]
  }
 ],
 "metadata": {
  "kernelspec": {
   "display_name": "Python 3",
   "language": "python",
   "name": "python3"
  },
  "language_info": {
   "codemirror_mode": {
    "name": "ipython",
    "version": 3
   },
   "file_extension": ".py",
   "mimetype": "text/x-python",
   "name": "python",
   "nbconvert_exporter": "python",
   "pygments_lexer": "ipython3",
   "version": "3.13.3"
  }
 },
 "nbformat": 4,
 "nbformat_minor": 5
}

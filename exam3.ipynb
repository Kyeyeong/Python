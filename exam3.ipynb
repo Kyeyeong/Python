{
 "cells": [
  {
   "cell_type": "code",
   "execution_count": null,
   "id": "287c3190",
   "metadata": {},
   "outputs": [
    {
     "name": "stdout",
     "output_type": "stream",
     "text": [
      "<Response [200]>\n",
      "<html><head><title>The Dormouse's story</title></head>\n",
      "<body>\n",
      "<p class=\"title\"><b>The Dormouse's story</b></p>\n",
      "\n",
      "<p class=\"story\">Once upon a time there were three little sisters; and their names were\n",
      "<a href=\"http://example.com/elsie\" class=\"sister\" id=\"link1\">Elsie</a>,\n",
      "<a href=\"http://example.com/lacie\" class=\"sister\" id=\"link2\">Lacie</a> and\n",
      "<a href=\"http://example.com/tillie\" class=\"sister\" id=\"link3\">Tillie</a>;\n",
      "and they lived at the bottom of a well.</p>\n",
      "\n",
      "<p class=\"story\">...</p>\n",
      "\n",
      "[<a class=\"sister\" href=\"http://example.com/elsie\" id=\"link1\">Elsie</a>, <a class=\"sister\" href=\"http://example.com/lacie\" id=\"link2\">Lacie</a>, <a class=\"sister\" href=\"http://example.com/tillie\" id=\"link3\">Tillie</a>]\n",
      "<a class=\"sister\" href=\"http://example.com/lacie\" id=\"link2\">Lacie</a>\n",
      "Lacie\n",
      "['sister']\n",
      "http://example.com/lacie\n"
     ]
    }
   ],
   "source": [
    "# requests 모듈 : 웹 페이지를 요청하고 응답 데이터를 받을 수 있음\n",
    "\n",
    "import requests as req\n",
    "from bs4 import BeautifulSoup  #BeautifulSoup은 html 해석기기\n",
    "response = req.get(\"https://www.naver.com\") # 특정 사이트에 페이지를 요청, html을 반환환\n",
    "print(response)\n",
    "\n",
    "# html을 읽어와야 함함\n",
    "html_doc = \"\"\"<html><head><title>The Dormouse's story</title></head>\n",
    "<body>\n",
    "<p class=\"title\"><b>The Dormouse's story</b></p>\n",
    "\n",
    "<p class=\"story\">Once upon a time there were three little sisters; and their names were\n",
    "<a href=\"http://example.com/elsie\" class=\"sister\" id=\"link1\">Elsie</a>,\n",
    "<a href=\"http://example.com/lacie\" class=\"sister\" id=\"link2\">Lacie</a> and\n",
    "<a href=\"http://example.com/tillie\" class=\"sister\" id=\"link3\">Tillie</a>;\n",
    "and they lived at the bottom of a well.</p>\n",
    "\n",
    "<p class=\"story\">...</p>\n",
    "\"\"\"\n",
    "\n",
    "print(html_doc)\n",
    "soup = BeautifulSoup(html_doc, 'html.parser')\n",
    "#soup을 이용해서 html_doc 문자열을 파싱, 그 내용을 soup 변수로 대입\n",
    "alist = soup.select(\"a\")\n",
    "print(alist)\n",
    "print(alist[1])\n",
    "\n",
    "# 텍스트\n",
    "print(alist[1].text)\n",
    "\n",
    "# 속성값 가져오기 <태그명 속성명 = \"속성값\">\n",
    "print(alist[1][\"class\"])\n",
    "print(alist[1][\"href\"])\n",
    "\n",
    "# 태그 선택 방법\n",
    "#  1. 태그 선택\n",
    "#  2. 후손 선택\n",
    "#  3. 자식 선택\n",
    "#  4. class 선택  // 속성\n",
    "#  5. id 선택   // 속성"
   ]
  }
 ],
 "metadata": {
  "kernelspec": {
   "display_name": "Python 3",
   "language": "python",
   "name": "python3"
  },
  "language_info": {
   "codemirror_mode": {
    "name": "ipython",
    "version": 3
   },
   "file_extension": ".py",
   "mimetype": "text/x-python",
   "name": "python",
   "nbconvert_exporter": "python",
   "pygments_lexer": "ipython3",
   "version": "3.13.3"
  }
 },
 "nbformat": 4,
 "nbformat_minor": 5
}

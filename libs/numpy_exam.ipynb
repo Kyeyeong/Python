{
 "cells": [
  {
   "cell_type": "code",
   "execution_count": null,
   "id": "a02643b1",
   "metadata": {},
   "outputs": [
    {
     "name": "stdout",
     "output_type": "stream",
     "text": [
      "[1 2 3 4]\n",
      "[1, 2, 3, 4]\n",
      "<class 'numpy.ndarray'>\n",
      "<class 'list'>\n"
     ]
    }
   ],
   "source": [
    "# numpy = ndArray 다차원\n",
    "\n",
    "import numpy as np\n",
    "\n",
    "# 다차원 배열의 생성 역할\n",
    "# 1차원 nbArray 생성\n",
    "\n",
    "np.array([1, 2, 3, 4])\n",
    "\n",
    "arr1 = np.array([1, 2, 3, 4])  # 넘파이 ncArray\n",
    "arr2 = [1, 2, 3, 4]\n",
    "\n",
    "print(arr1)\n",
    "print(arr2)\n",
    "\n",
    "print(type(arr1)) # 넘파이로 이루어진 다차원 배열\n",
    "print(type(arr2)) # 그냥 리스트 형태태"
   ]
  },
  {
   "cell_type": "code",
   "execution_count": 5,
   "id": "d6d42be0",
   "metadata": {},
   "outputs": [
    {
     "name": "stdout",
     "output_type": "stream",
     "text": [
      "[[1 2 3 4]\n",
      " [5 6 7 8]]\n",
      "[[[1 2 3 4]\n",
      "  [1 2 3 4]]\n",
      "\n",
      " [[1 2 3 4]\n",
      "  [1 2 3 4]]]\n"
     ]
    }
   ],
   "source": [
    "# 2차원 anArray 생성\n",
    "# 1차원 배열 두개가 리스트로 묶인 형태가 2차원 배열이다\n",
    "\n",
    "arr2 = np.array([[1, 2, 3, 4], [5, 6, 7, 8]])\n",
    "\n",
    "print(arr2)\n",
    "\n",
    "\n",
    "# 3차원 anArray 생성\n",
    "\n",
    "arr3 = np.array([[[1,2,3,4], [1,2,3,4]], [[1,2,3,4], [1,2,3,4]]])\n",
    "\n",
    "print(arr3)\n",
    "\n"
   ]
  }
 ],
 "metadata": {
  "kernelspec": {
   "display_name": "Python 3",
   "language": "python",
   "name": "python3"
  },
  "language_info": {
   "codemirror_mode": {
    "name": "ipython",
    "version": 3
   },
   "file_extension": ".py",
   "mimetype": "text/x-python",
   "name": "python",
   "nbconvert_exporter": "python",
   "pygments_lexer": "ipython3",
   "version": "3.13.3"
  }
 },
 "nbformat": 4,
 "nbformat_minor": 5
}

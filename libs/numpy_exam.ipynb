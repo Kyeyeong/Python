{
 "cells": [
  {
   "cell_type": "code",
   "execution_count": 1,
   "id": "a02643b1",
   "metadata": {},
   "outputs": [
    {
     "name": "stdout",
     "output_type": "stream",
     "text": [
      "[1 2 3 4]\n",
      "[1, 2, 3, 4]\n",
      "<class 'numpy.ndarray'>\n",
      "<class 'list'>\n"
     ]
    }
   ],
   "source": [
    "# numpy = ndArray 다차원\n",
    "\n",
    "import numpy as np\n",
    "\n",
    "# 다차원 배열의 생성 역할\n",
    "# 1차원 nbArray 생성\n",
    "\n",
    "np.array([1, 2, 3, 4])\n",
    "\n",
    "arr1 = np.array([1, 2, 3, 4])  # 넘파이 ncArray\n",
    "arr2 = [1, 2, 3, 4]\n",
    "\n",
    "print(arr1)\n",
    "print(arr2)\n",
    "\n",
    "print(type(arr1)) # 넘파이로 이루어진 다차원 배열\n",
    "print(type(arr2)) # 그냥 리스트 형태태"
   ]
  },
  {
   "cell_type": "code",
   "execution_count": 4,
   "id": "d6d42be0",
   "metadata": {},
   "outputs": [
    {
     "name": "stdout",
     "output_type": "stream",
     "text": [
      "[[1 2 3 4]\n",
      " [5 6 7 8]]\n",
      "[[[1 2 3 4]\n",
      "  [1 2 3 4]]\n",
      "\n",
      " [[1 2 3 4]\n",
      "  [1 2 3 4]]]\n"
     ]
    }
   ],
   "source": [
    "# 2차원 anArray 생성\n",
    "# 1차원 배열 두개가 리스트로 묶인 형태가 2차원 배열이다\n",
    "\n",
    "arr2 = np.array([[1, 2, 3, 4], [5, 6, 7, 8]])\n",
    "\n",
    "print(arr2)\n",
    "\n",
    "\n",
    "# 3차원 anArray 생성\n",
    "\n",
    "arr3 = np.array([[[1,2,3,4], [1,2,3,4]], [[1,2,3,4], [1,2,3,4]]])\n",
    "\n",
    "print(arr3)\n",
    "\n"
   ]
  },
  {
   "cell_type": "code",
   "execution_count": 10,
   "id": "8de07541",
   "metadata": {},
   "outputs": [
    {
     "name": "stdout",
     "output_type": "stream",
     "text": [
      "1\n",
      "2\n",
      "3\n",
      "(4,)\n",
      "(2, 4)\n",
      "(2, 2, 4)\n",
      "4\n",
      "8\n",
      "16\n",
      "int64\n",
      "int64\n",
      "int64\n"
     ]
    }
   ],
   "source": [
    "# ndim : 몇 차원 배열인지를 알려줌려줌\n",
    "print(arr1.ndim)\n",
    "print(arr2.ndim)\n",
    "print(arr3.ndim)\n",
    "\n",
    "# shape : 배열의 형태를 알려줌줌\n",
    "print(arr1.shape)  # 4개의 열\n",
    "print(arr2.shape)  # 행 2개, 열 4개\n",
    "print(arr3.shape)  # 2 * 2 * 4\n",
    "\n",
    "# size : 요쇼의 개수\n",
    "print(arr1.size)\n",
    "print(arr2.size)\n",
    "print(arr3.size)\n",
    "\n",
    "# dtype : 요소의 타입\n",
    "print(arr1.dtype)\n",
    "print(arr2.dtype)\n",
    "print(arr3.dtype)"
   ]
  },
  {
   "cell_type": "code",
   "execution_count": 15,
   "id": "0225c36a",
   "metadata": {},
   "outputs": [
    {
     "name": "stdout",
     "output_type": "stream",
     "text": [
      "[[0. 0. 0. 0.]\n",
      " [0. 0. 0. 0.]\n",
      " [0. 0. 0. 0.]]\n",
      "[[[1. 1. 1. 1.]\n",
      "  [1. 1. 1. 1.]\n",
      "  [1. 1. 1. 1.]]\n",
      "\n",
      " [[1. 1. 1. 1.]\n",
      "  [1. 1. 1. 1.]\n",
      "  [1. 1. 1. 1.]]]\n",
      "[[3 3 3 3]\n",
      " [3 3 3 3]\n",
      " [3 3 3 3]\n",
      " [3 3 3 3]]\n",
      "[[[0. 0. 0. 0.]\n",
      "  [0. 0. 0. 0.]\n",
      "  [0. 0. 0. 0.]]\n",
      "\n",
      " [[0. 0. 0. 0.]\n",
      "  [0. 0. 0. 0.]\n",
      "  [0. 0. 0. 0.]]]\n",
      "[[[1. 1. 1. 1.]\n",
      "  [1. 1. 1. 1.]\n",
      "  [1. 1. 1. 1.]]\n",
      "\n",
      " [[1. 1. 1. 1.]\n",
      "  [1. 1. 1. 1.]\n",
      "  [1. 1. 1. 1.]]]\n",
      "[[[2. 2. 2. 2.]\n",
      "  [2. 2. 2. 2.]\n",
      "  [2. 2. 2. 2.]]\n",
      "\n",
      " [[2. 2. 2. 2.]\n",
      "  [2. 2. 2. 2.]\n",
      "  [2. 2. 2. 2.]]]\n"
     ]
    }
   ],
   "source": [
    "# zeros : 요소를 0으로 채운 행렬\n",
    "\n",
    "arr4 = np.zeros((3, 4))\n",
    "print(arr4)\n",
    "\n",
    "# ones : 요소를 1로 채운 행렬렬\n",
    "\n",
    "arr5 = np.ones((2, 3, 4))\n",
    "print(arr5)\n",
    "\n",
    "# full : i 값으로 채워진 행렬(임의의 숫자)\n",
    "\n",
    "arr6 = np.full((4, 4), 3)\n",
    "print(arr6)\n",
    "\n",
    "# like : 다른 배열의 모양을 본따 만듦\n",
    "\n",
    "print(np.zeros_like(arr5))\n",
    "print(np.ones_like(arr5))\n",
    "print(np.full_like(arr5, 2))"
   ]
  },
  {
   "cell_type": "code",
   "execution_count": null,
   "id": "f3695bc8",
   "metadata": {},
   "outputs": [
    {
     "name": "stdout",
     "output_type": "stream",
     "text": [
      "[[-63  40 -28]\n",
      " [ 37  33 -21]]\n"
     ]
    }
   ],
   "source": [
    "# random : 난수를 발생시킴\n",
    "\n",
    "arr7 = np.random.randint(-100, 100, (2, 3))\n",
    "np.random.seed(1)  # 난수를 발생시킨 시점 저장\n",
    "np.random.seed(2)  \n",
    "\n",
    "np.random.randint(0, 10, (2, 2, 3))\n",
    "print(arr7)"
   ]
  },
  {
   "cell_type": "code",
   "execution_count": null,
   "id": "b4de8c51",
   "metadata": {},
   "outputs": [],
   "source": []
  },
  {
   "cell_type": "code",
   "execution_count": 40,
   "id": "f74e1a4d",
   "metadata": {},
   "outputs": [
    {
     "name": "stdout",
     "output_type": "stream",
     "text": [
      "2\n",
      "7\n",
      "[[6 7]]\n",
      "[1 2 3 4]\n",
      "[[1 2 3 4]\n",
      " [5 6 7 8]]\n"
     ]
    },
    {
     "data": {
      "text/plain": [
       "array([3, 4])"
      ]
     },
     "execution_count": 40,
     "metadata": {},
     "output_type": "execute_result"
    }
   ],
   "source": [
    "# indexing \n",
    "#li = [1, 2, 3, 4]\n",
    "#li[0]\n",
    "\n",
    "# 1차원 배열의 인덱싱\n",
    "#arr1[0] # 한개 접근\n",
    "\n",
    "# 1차원 슬라이싱\n",
    "# arr1[시작:끝:보폭]\n",
    "# arr1[1:5:1]  // 1에서 5까지 1씩\n",
    "\n",
    "#arr[1:2:]\n",
    "\n",
    "# 2차원 배열의 인덱싱\n",
    "arr2 = np.array([[1, 2, 3, 4], [5, 6, 7, 8]])\n",
    "print(arr2[0, 1])\n",
    "print(arr2[1, 2])\n",
    "print(arr2[1:2:, 1:3:])\n",
    "\n",
    "# fancy 인덱싱 : 원하는 익덱스를 배열로 넘겨주는 인덱싱\n",
    "# 1차원\n",
    "arr1[[0, 1, 3]]\n",
    "print(arr1)\n",
    "# 2차원\n",
    "arr2[[0,1], [1,3]]\n",
    "print(arr2)\n",
    "arr2[::, [0,3]]\n",
    "\n",
    "\n",
    "# 논리값 인덱싱\n",
    "arr1[[True, False, True, False]]\n",
    "arr1[arr1>2]\n"
   ]
  }
 ],
 "metadata": {
  "kernelspec": {
   "display_name": "Python 3",
   "language": "python",
   "name": "python3"
  },
  "language_info": {
   "codemirror_mode": {
    "name": "ipython",
    "version": 3
   },
   "file_extension": ".py",
   "mimetype": "text/x-python",
   "name": "python",
   "nbconvert_exporter": "python",
   "pygments_lexer": "ipython3",
   "version": "3.13.3"
  }
 },
 "nbformat": 4,
 "nbformat_minor": 5
}

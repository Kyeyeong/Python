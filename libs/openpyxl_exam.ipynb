{
 "cells": [
  {
   "cell_type": "code",
   "execution_count": 13,
   "id": "ba02f434",
   "metadata": {},
   "outputs": [],
   "source": [
    "#openpyxl => 파이썬에서 엑셀 파일을 읽고 쓰기 위한 라이브러리\n",
    "\n",
    "# openpyxl의 모든 기능을 불러온다\n",
    "from openpyxl import * \n",
    "\n",
    "w1 = Workbook()\n",
    "# 새로운 엑셀 파일 객체 생성\n",
    "# 가장 먼저 해야 할 기본 작업\n",
    "\n",
    "ws = w1.active\n",
    "w1.save(\"test.xlsx\")\n",
    "\n",
    "w2 = load_workbook(\"test.xlsx\")  # 기존에 저장한 test.xlsx 파일 열기기\n",
    "ws2 = w2.active # 불러온 엑셀 파일의 기본 시트를 선책해서 작업 준비\n",
    "\n",
    "\n",
    "# 엑셀 첫번째 시트에 데이터 입력하기\n",
    "\n",
    "ws2[\"A1\"] = 'Hello!!'\n",
    "w2.save(\"test.xlsx\")\n",
    "\n",
    "ws2[\"C3\"] = 'Python'\n",
    "w2.save(\"test.xlsx\")\n",
    "\n",
    "a = \"Python\"\n",
    "for row in ws2[\"D5\":\"F10\"] :\n",
    "    for cell in row :\n",
    "        cell.value = a\n",
    "\n",
    "w2.save(\"test.xlsx\")\n",
    "\n",
    "num = 1\n",
    "for row in ws2[\"A3\":\"D10\"] :\n",
    "    for cell in row :\n",
    "        cell.value = num\n",
    "        num += 1\n",
    "\n",
    "w2.save(\"test.xlsx\")"
   ]
  },
  {
   "cell_type": "code",
   "execution_count": null,
   "id": "3cf50bd3",
   "metadata": {},
   "outputs": [],
   "source": [
    "# 한 엑셀 내 시트를 여러개 생성하고 이름 설정\n",
    "\n",
    "# 새로운 시트 생성\n",
    "\n",
    "news = w2.create_sheet()\n",
    "w2.save(\"test.xlsx\")\n",
    "\n",
    "# 생성한 시트의 이름 변경\n",
    "# 새로 만든 시트의 이름을 변경경\n",
    "news.title = 'last sheet'\n",
    "\n",
    "w2.create_sheet(\"1번시트\", 0) \n",
    "# 숫자는 원하는 위치(index)에 원하는 이름으로 시트 생성성\n",
    "\n",
    "w2.save(\"test.xlsx\")\n"
   ]
  },
  {
   "cell_type": "code",
   "execution_count": 18,
   "id": "8db773f1",
   "metadata": {},
   "outputs": [],
   "source": [
    "# 튜플 리스트 차이점\n",
    "# 리스트 이름 = [요소 1, 2, 3, 4]\n",
    "# 튜플 이름 = [요소 1, 2, 3, 4]\n",
    "\n",
    "# print(리스트이름[0])\n",
    "# print(튜플이름[0])\n",
    "\n",
    "# 리스트는 수정 가능\n",
    "# 리스트이름[0] = 값\n",
    "\n",
    "# 튜플은 수정 불가능\n",
    "\n",
    "item1 = {\"품목\" : \"바나나\", \"가격\" : \"2000\", \"수량\" : 1, \"날짜\" : \"2025년 05월 08일\"}\n",
    "item2 = {\"품목\" : \"애플\", \"가격\" : \"24000\", \"수량\" : 12, \"날짜\" : \"2025년 07월 08일\"}\n",
    "item3 = {\"품목\" : \"망고\", \"가격\" : \"45000\", \"수량\" : 11, \"날짜\" : \"2025년 12월 08일\"}\n",
    "item4 = {\"품목\" : \"수박\", \"가격\" : \"263000\", \"수량\" : 15, \"날짜\" : \"2025년 08월 08일\"}\n",
    "\n",
    "items = [item1, item2, item3, item4]\n",
    "\n",
    "from openpyxl import Workbook\n",
    "wb = Workbook()\n",
    "ws = wb.active\n",
    "\n",
    "ws[\"A1\"] = \"품목\"\n",
    "ws[\"B1\"] = \"가격\"\n",
    "ws[\"C1\"] = \"수량\"\n",
    "ws[\"D1\"] = \"날짜\"\n",
    "\n",
    "i = 2\n",
    "for item in items :\n",
    "    ws[\"A\" + str(i)]  = item[\"품목\"]\n",
    "    ws[\"B\" + str(i)]  = item[\"가격\"]\n",
    "    ws[\"C\" + str(i)]  = item[\"수량\"]\n",
    "    ws[\"D\" + str(i)]  = item[\"날짜\"]\n",
    "    i += 1\n",
    "wb.save(\"test2.xlsx\")"
   ]
  },
  {
   "cell_type": "code",
   "execution_count": 19,
   "id": "5ee42d98",
   "metadata": {},
   "outputs": [
    {
     "name": "stdout",
     "output_type": "stream",
     "text": [
      "출력\n"
     ]
    }
   ],
   "source": [
    "# 시간을 멈춰야하는 경우 : 파이썬에서 제공하는 time 모듈을 쓰면 된다.\n",
    "\n",
    "import time\n",
    "time.sleep(5)\n",
    "print(\"출력\")"
   ]
  }
 ],
 "metadata": {
  "kernelspec": {
   "display_name": "Python 3",
   "language": "python",
   "name": "python3"
  },
  "language_info": {
   "codemirror_mode": {
    "name": "ipython",
    "version": 3
   },
   "file_extension": ".py",
   "mimetype": "text/x-python",
   "name": "python",
   "nbconvert_exporter": "python",
   "pygments_lexer": "ipython3",
   "version": "3.13.3"
  }
 },
 "nbformat": 4,
 "nbformat_minor": 5
}
